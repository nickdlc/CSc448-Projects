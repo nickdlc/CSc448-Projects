{
  "cells": [
    {
      "cell_type": "markdown",
      "source": [
        "[![Open In Colab](https://colab.research.google.com/assets/colab-badge.svg)](https://colab.research.google.com/github/nickdlc/CSc448-Projects/blob/main/Assignment3/Equation-of-Slime.ipynb#scrollTo=WW8OLQAwFULZ)\n"
      ],
      "metadata": {
        "id": "WW8OLQAwFULZ"
      },
      "id": "WW8OLQAwFULZ"
    },
    {
      "cell_type": "code",
      "execution_count": 1,
      "id": "eb926a37",
      "metadata": {
        "id": "eb926a37"
      },
      "outputs": [],
      "source": [
        "import numpy as np\n",
        "import pandas as pd\n",
        "import matplotlib.pyplot as plt\n",
        "\n",
        "%matplotlib inline"
      ]
    },
    {
      "cell_type": "markdown",
      "source": [
        "# Loading the Dataset"
      ],
      "metadata": {
        "id": "xcrgT5tey8pY"
      },
      "id": "xcrgT5tey8pY"
    },
    {
      "cell_type": "code",
      "source": [
        "# Display the first 15 rows of the dataset\n",
        "df = pd.read_csv('https://raw.githubusercontent.com/profmcnich/example_notebook/main/science_data_large.csv')\n",
        "df.head(15)"
      ],
      "metadata": {
        "id": "J_UvbbjKy-bB",
        "outputId": "5b902f73-77c6-4d40-f939-0b8221cd98cc",
        "colab": {
          "base_uri": "https://localhost:8080/",
          "height": 520
        }
      },
      "id": "J_UvbbjKy-bB",
      "execution_count": 2,
      "outputs": [
        {
          "output_type": "execute_result",
          "data": {
            "text/plain": [
              "    Temperature °C  Mols KCL     Size nm^3\n",
              "0              469       647  6.244743e+05\n",
              "1              403       694  5.779610e+05\n",
              "2              302       975  6.196847e+05\n",
              "3              779       916  1.460449e+06\n",
              "4              901        18  4.325726e+04\n",
              "5              545       637  7.124634e+05\n",
              "6              660       519  7.006960e+05\n",
              "7              143       869  2.718260e+05\n",
              "8               89       461  8.919803e+04\n",
              "9              294       776  4.770210e+05\n",
              "10             991       117  2.441771e+05\n",
              "11             307       781  5.006455e+05\n",
              "12             206        70  3.145200e+04\n",
              "13             437       599  5.390215e+05\n",
              "14             566        75  9.185271e+04"
            ],
            "text/html": [
              "\n",
              "  <div id=\"df-9a9a868b-bd01-4a4e-a23b-598fef90e9d2\">\n",
              "    <div class=\"colab-df-container\">\n",
              "      <div>\n",
              "<style scoped>\n",
              "    .dataframe tbody tr th:only-of-type {\n",
              "        vertical-align: middle;\n",
              "    }\n",
              "\n",
              "    .dataframe tbody tr th {\n",
              "        vertical-align: top;\n",
              "    }\n",
              "\n",
              "    .dataframe thead th {\n",
              "        text-align: right;\n",
              "    }\n",
              "</style>\n",
              "<table border=\"1\" class=\"dataframe\">\n",
              "  <thead>\n",
              "    <tr style=\"text-align: right;\">\n",
              "      <th></th>\n",
              "      <th>Temperature °C</th>\n",
              "      <th>Mols KCL</th>\n",
              "      <th>Size nm^3</th>\n",
              "    </tr>\n",
              "  </thead>\n",
              "  <tbody>\n",
              "    <tr>\n",
              "      <th>0</th>\n",
              "      <td>469</td>\n",
              "      <td>647</td>\n",
              "      <td>6.244743e+05</td>\n",
              "    </tr>\n",
              "    <tr>\n",
              "      <th>1</th>\n",
              "      <td>403</td>\n",
              "      <td>694</td>\n",
              "      <td>5.779610e+05</td>\n",
              "    </tr>\n",
              "    <tr>\n",
              "      <th>2</th>\n",
              "      <td>302</td>\n",
              "      <td>975</td>\n",
              "      <td>6.196847e+05</td>\n",
              "    </tr>\n",
              "    <tr>\n",
              "      <th>3</th>\n",
              "      <td>779</td>\n",
              "      <td>916</td>\n",
              "      <td>1.460449e+06</td>\n",
              "    </tr>\n",
              "    <tr>\n",
              "      <th>4</th>\n",
              "      <td>901</td>\n",
              "      <td>18</td>\n",
              "      <td>4.325726e+04</td>\n",
              "    </tr>\n",
              "    <tr>\n",
              "      <th>5</th>\n",
              "      <td>545</td>\n",
              "      <td>637</td>\n",
              "      <td>7.124634e+05</td>\n",
              "    </tr>\n",
              "    <tr>\n",
              "      <th>6</th>\n",
              "      <td>660</td>\n",
              "      <td>519</td>\n",
              "      <td>7.006960e+05</td>\n",
              "    </tr>\n",
              "    <tr>\n",
              "      <th>7</th>\n",
              "      <td>143</td>\n",
              "      <td>869</td>\n",
              "      <td>2.718260e+05</td>\n",
              "    </tr>\n",
              "    <tr>\n",
              "      <th>8</th>\n",
              "      <td>89</td>\n",
              "      <td>461</td>\n",
              "      <td>8.919803e+04</td>\n",
              "    </tr>\n",
              "    <tr>\n",
              "      <th>9</th>\n",
              "      <td>294</td>\n",
              "      <td>776</td>\n",
              "      <td>4.770210e+05</td>\n",
              "    </tr>\n",
              "    <tr>\n",
              "      <th>10</th>\n",
              "      <td>991</td>\n",
              "      <td>117</td>\n",
              "      <td>2.441771e+05</td>\n",
              "    </tr>\n",
              "    <tr>\n",
              "      <th>11</th>\n",
              "      <td>307</td>\n",
              "      <td>781</td>\n",
              "      <td>5.006455e+05</td>\n",
              "    </tr>\n",
              "    <tr>\n",
              "      <th>12</th>\n",
              "      <td>206</td>\n",
              "      <td>70</td>\n",
              "      <td>3.145200e+04</td>\n",
              "    </tr>\n",
              "    <tr>\n",
              "      <th>13</th>\n",
              "      <td>437</td>\n",
              "      <td>599</td>\n",
              "      <td>5.390215e+05</td>\n",
              "    </tr>\n",
              "    <tr>\n",
              "      <th>14</th>\n",
              "      <td>566</td>\n",
              "      <td>75</td>\n",
              "      <td>9.185271e+04</td>\n",
              "    </tr>\n",
              "  </tbody>\n",
              "</table>\n",
              "</div>\n",
              "      <button class=\"colab-df-convert\" onclick=\"convertToInteractive('df-9a9a868b-bd01-4a4e-a23b-598fef90e9d2')\"\n",
              "              title=\"Convert this dataframe to an interactive table.\"\n",
              "              style=\"display:none;\">\n",
              "        \n",
              "  <svg xmlns=\"http://www.w3.org/2000/svg\" height=\"24px\"viewBox=\"0 0 24 24\"\n",
              "       width=\"24px\">\n",
              "    <path d=\"M0 0h24v24H0V0z\" fill=\"none\"/>\n",
              "    <path d=\"M18.56 5.44l.94 2.06.94-2.06 2.06-.94-2.06-.94-.94-2.06-.94 2.06-2.06.94zm-11 1L8.5 8.5l.94-2.06 2.06-.94-2.06-.94L8.5 2.5l-.94 2.06-2.06.94zm10 10l.94 2.06.94-2.06 2.06-.94-2.06-.94-.94-2.06-.94 2.06-2.06.94z\"/><path d=\"M17.41 7.96l-1.37-1.37c-.4-.4-.92-.59-1.43-.59-.52 0-1.04.2-1.43.59L10.3 9.45l-7.72 7.72c-.78.78-.78 2.05 0 2.83L4 21.41c.39.39.9.59 1.41.59.51 0 1.02-.2 1.41-.59l7.78-7.78 2.81-2.81c.8-.78.8-2.07 0-2.86zM5.41 20L4 18.59l7.72-7.72 1.47 1.35L5.41 20z\"/>\n",
              "  </svg>\n",
              "      </button>\n",
              "      \n",
              "  <style>\n",
              "    .colab-df-container {\n",
              "      display:flex;\n",
              "      flex-wrap:wrap;\n",
              "      gap: 12px;\n",
              "    }\n",
              "\n",
              "    .colab-df-convert {\n",
              "      background-color: #E8F0FE;\n",
              "      border: none;\n",
              "      border-radius: 50%;\n",
              "      cursor: pointer;\n",
              "      display: none;\n",
              "      fill: #1967D2;\n",
              "      height: 32px;\n",
              "      padding: 0 0 0 0;\n",
              "      width: 32px;\n",
              "    }\n",
              "\n",
              "    .colab-df-convert:hover {\n",
              "      background-color: #E2EBFA;\n",
              "      box-shadow: 0px 1px 2px rgba(60, 64, 67, 0.3), 0px 1px 3px 1px rgba(60, 64, 67, 0.15);\n",
              "      fill: #174EA6;\n",
              "    }\n",
              "\n",
              "    [theme=dark] .colab-df-convert {\n",
              "      background-color: #3B4455;\n",
              "      fill: #D2E3FC;\n",
              "    }\n",
              "\n",
              "    [theme=dark] .colab-df-convert:hover {\n",
              "      background-color: #434B5C;\n",
              "      box-shadow: 0px 1px 3px 1px rgba(0, 0, 0, 0.15);\n",
              "      filter: drop-shadow(0px 1px 2px rgba(0, 0, 0, 0.3));\n",
              "      fill: #FFFFFF;\n",
              "    }\n",
              "  </style>\n",
              "\n",
              "      <script>\n",
              "        const buttonEl =\n",
              "          document.querySelector('#df-9a9a868b-bd01-4a4e-a23b-598fef90e9d2 button.colab-df-convert');\n",
              "        buttonEl.style.display =\n",
              "          google.colab.kernel.accessAllowed ? 'block' : 'none';\n",
              "\n",
              "        async function convertToInteractive(key) {\n",
              "          const element = document.querySelector('#df-9a9a868b-bd01-4a4e-a23b-598fef90e9d2');\n",
              "          const dataTable =\n",
              "            await google.colab.kernel.invokeFunction('convertToInteractive',\n",
              "                                                     [key], {});\n",
              "          if (!dataTable) return;\n",
              "\n",
              "          const docLinkHtml = 'Like what you see? Visit the ' +\n",
              "            '<a target=\"_blank\" href=https://colab.research.google.com/notebooks/data_table.ipynb>data table notebook</a>'\n",
              "            + ' to learn more about interactive tables.';\n",
              "          element.innerHTML = '';\n",
              "          dataTable['output_type'] = 'display_data';\n",
              "          await google.colab.output.renderOutput(dataTable, element);\n",
              "          const docLink = document.createElement('div');\n",
              "          docLink.innerHTML = docLinkHtml;\n",
              "          element.appendChild(docLink);\n",
              "        }\n",
              "      </script>\n",
              "    </div>\n",
              "  </div>\n",
              "  "
            ]
          },
          "metadata": {},
          "execution_count": 2
        }
      ]
    },
    {
      "cell_type": "code",
      "source": [
        "# Display a summary of the dataset\n",
        "df.describe()"
      ],
      "metadata": {
        "id": "8tkwcPLr3O91",
        "outputId": "a8810e9e-5286-41ff-c6b9-c02c5769773d",
        "colab": {
          "base_uri": "https://localhost:8080/",
          "height": 300
        }
      },
      "id": "8tkwcPLr3O91",
      "execution_count": 3,
      "outputs": [
        {
          "output_type": "execute_result",
          "data": {
            "text/plain": [
              "       Temperature °C     Mols KCL     Size nm^3\n",
              "count     1000.000000  1000.000000  1.000000e+03\n",
              "mean       500.500000   471.530000  5.086111e+05\n",
              "std        288.819436   288.482872  4.474838e+05\n",
              "min          1.000000     1.000000  1.611429e+01\n",
              "25%        250.750000   226.750000  1.298267e+05\n",
              "50%        500.500000   459.500000  3.827182e+05\n",
              "75%        750.250000   710.250000  7.603211e+05\n",
              "max       1000.000000  1000.000000  1.972127e+06"
            ],
            "text/html": [
              "\n",
              "  <div id=\"df-3882881f-9386-41f3-87a0-d082ee70fed1\">\n",
              "    <div class=\"colab-df-container\">\n",
              "      <div>\n",
              "<style scoped>\n",
              "    .dataframe tbody tr th:only-of-type {\n",
              "        vertical-align: middle;\n",
              "    }\n",
              "\n",
              "    .dataframe tbody tr th {\n",
              "        vertical-align: top;\n",
              "    }\n",
              "\n",
              "    .dataframe thead th {\n",
              "        text-align: right;\n",
              "    }\n",
              "</style>\n",
              "<table border=\"1\" class=\"dataframe\">\n",
              "  <thead>\n",
              "    <tr style=\"text-align: right;\">\n",
              "      <th></th>\n",
              "      <th>Temperature °C</th>\n",
              "      <th>Mols KCL</th>\n",
              "      <th>Size nm^3</th>\n",
              "    </tr>\n",
              "  </thead>\n",
              "  <tbody>\n",
              "    <tr>\n",
              "      <th>count</th>\n",
              "      <td>1000.000000</td>\n",
              "      <td>1000.000000</td>\n",
              "      <td>1.000000e+03</td>\n",
              "    </tr>\n",
              "    <tr>\n",
              "      <th>mean</th>\n",
              "      <td>500.500000</td>\n",
              "      <td>471.530000</td>\n",
              "      <td>5.086111e+05</td>\n",
              "    </tr>\n",
              "    <tr>\n",
              "      <th>std</th>\n",
              "      <td>288.819436</td>\n",
              "      <td>288.482872</td>\n",
              "      <td>4.474838e+05</td>\n",
              "    </tr>\n",
              "    <tr>\n",
              "      <th>min</th>\n",
              "      <td>1.000000</td>\n",
              "      <td>1.000000</td>\n",
              "      <td>1.611429e+01</td>\n",
              "    </tr>\n",
              "    <tr>\n",
              "      <th>25%</th>\n",
              "      <td>250.750000</td>\n",
              "      <td>226.750000</td>\n",
              "      <td>1.298267e+05</td>\n",
              "    </tr>\n",
              "    <tr>\n",
              "      <th>50%</th>\n",
              "      <td>500.500000</td>\n",
              "      <td>459.500000</td>\n",
              "      <td>3.827182e+05</td>\n",
              "    </tr>\n",
              "    <tr>\n",
              "      <th>75%</th>\n",
              "      <td>750.250000</td>\n",
              "      <td>710.250000</td>\n",
              "      <td>7.603211e+05</td>\n",
              "    </tr>\n",
              "    <tr>\n",
              "      <th>max</th>\n",
              "      <td>1000.000000</td>\n",
              "      <td>1000.000000</td>\n",
              "      <td>1.972127e+06</td>\n",
              "    </tr>\n",
              "  </tbody>\n",
              "</table>\n",
              "</div>\n",
              "      <button class=\"colab-df-convert\" onclick=\"convertToInteractive('df-3882881f-9386-41f3-87a0-d082ee70fed1')\"\n",
              "              title=\"Convert this dataframe to an interactive table.\"\n",
              "              style=\"display:none;\">\n",
              "        \n",
              "  <svg xmlns=\"http://www.w3.org/2000/svg\" height=\"24px\"viewBox=\"0 0 24 24\"\n",
              "       width=\"24px\">\n",
              "    <path d=\"M0 0h24v24H0V0z\" fill=\"none\"/>\n",
              "    <path d=\"M18.56 5.44l.94 2.06.94-2.06 2.06-.94-2.06-.94-.94-2.06-.94 2.06-2.06.94zm-11 1L8.5 8.5l.94-2.06 2.06-.94-2.06-.94L8.5 2.5l-.94 2.06-2.06.94zm10 10l.94 2.06.94-2.06 2.06-.94-2.06-.94-.94-2.06-.94 2.06-2.06.94z\"/><path d=\"M17.41 7.96l-1.37-1.37c-.4-.4-.92-.59-1.43-.59-.52 0-1.04.2-1.43.59L10.3 9.45l-7.72 7.72c-.78.78-.78 2.05 0 2.83L4 21.41c.39.39.9.59 1.41.59.51 0 1.02-.2 1.41-.59l7.78-7.78 2.81-2.81c.8-.78.8-2.07 0-2.86zM5.41 20L4 18.59l7.72-7.72 1.47 1.35L5.41 20z\"/>\n",
              "  </svg>\n",
              "      </button>\n",
              "      \n",
              "  <style>\n",
              "    .colab-df-container {\n",
              "      display:flex;\n",
              "      flex-wrap:wrap;\n",
              "      gap: 12px;\n",
              "    }\n",
              "\n",
              "    .colab-df-convert {\n",
              "      background-color: #E8F0FE;\n",
              "      border: none;\n",
              "      border-radius: 50%;\n",
              "      cursor: pointer;\n",
              "      display: none;\n",
              "      fill: #1967D2;\n",
              "      height: 32px;\n",
              "      padding: 0 0 0 0;\n",
              "      width: 32px;\n",
              "    }\n",
              "\n",
              "    .colab-df-convert:hover {\n",
              "      background-color: #E2EBFA;\n",
              "      box-shadow: 0px 1px 2px rgba(60, 64, 67, 0.3), 0px 1px 3px 1px rgba(60, 64, 67, 0.15);\n",
              "      fill: #174EA6;\n",
              "    }\n",
              "\n",
              "    [theme=dark] .colab-df-convert {\n",
              "      background-color: #3B4455;\n",
              "      fill: #D2E3FC;\n",
              "    }\n",
              "\n",
              "    [theme=dark] .colab-df-convert:hover {\n",
              "      background-color: #434B5C;\n",
              "      box-shadow: 0px 1px 3px 1px rgba(0, 0, 0, 0.15);\n",
              "      filter: drop-shadow(0px 1px 2px rgba(0, 0, 0, 0.3));\n",
              "      fill: #FFFFFF;\n",
              "    }\n",
              "  </style>\n",
              "\n",
              "      <script>\n",
              "        const buttonEl =\n",
              "          document.querySelector('#df-3882881f-9386-41f3-87a0-d082ee70fed1 button.colab-df-convert');\n",
              "        buttonEl.style.display =\n",
              "          google.colab.kernel.accessAllowed ? 'block' : 'none';\n",
              "\n",
              "        async function convertToInteractive(key) {\n",
              "          const element = document.querySelector('#df-3882881f-9386-41f3-87a0-d082ee70fed1');\n",
              "          const dataTable =\n",
              "            await google.colab.kernel.invokeFunction('convertToInteractive',\n",
              "                                                     [key], {});\n",
              "          if (!dataTable) return;\n",
              "\n",
              "          const docLinkHtml = 'Like what you see? Visit the ' +\n",
              "            '<a target=\"_blank\" href=https://colab.research.google.com/notebooks/data_table.ipynb>data table notebook</a>'\n",
              "            + ' to learn more about interactive tables.';\n",
              "          element.innerHTML = '';\n",
              "          dataTable['output_type'] = 'display_data';\n",
              "          await google.colab.output.renderOutput(dataTable, element);\n",
              "          const docLink = document.createElement('div');\n",
              "          docLink.innerHTML = docLinkHtml;\n",
              "          element.appendChild(docLink);\n",
              "        }\n",
              "      </script>\n",
              "    </div>\n",
              "  </div>\n",
              "  "
            ]
          },
          "metadata": {},
          "execution_count": 3
        }
      ]
    },
    {
      "cell_type": "code",
      "source": [
        "# Check for null values\n",
        "df.isna().sum()"
      ],
      "metadata": {
        "colab": {
          "base_uri": "https://localhost:8080/"
        },
        "id": "_hAO8wPyAsJC",
        "outputId": "6e5ea28c-d43d-4c5b-be0a-5b07f1aff978"
      },
      "id": "_hAO8wPyAsJC",
      "execution_count": 4,
      "outputs": [
        {
          "output_type": "execute_result",
          "data": {
            "text/plain": [
              "Temperature °C    0\n",
              "Mols KCL          0\n",
              "Size nm^3         0\n",
              "dtype: int64"
            ]
          },
          "metadata": {},
          "execution_count": 4
        }
      ]
    },
    {
      "cell_type": "markdown",
      "source": [
        "Since there are no null values, we can proceed without modifying the dataset."
      ],
      "metadata": {
        "id": "OxrV2MVB1ZbC"
      },
      "id": "OxrV2MVB1ZbC"
    },
    {
      "cell_type": "markdown",
      "source": [
        "# Splitting the Dataset"
      ],
      "metadata": {
        "id": "FAEvR48_y-7c"
      },
      "id": "FAEvR48_y-7c"
    },
    {
      "cell_type": "code",
      "source": [
        "from sklearn.model_selection import train_test_split\n",
        "\n",
        "# Determine the features and label for the dataset\n",
        "X = df.drop(['Size nm^3'], axis=1)\n",
        "y = df['Size nm^3']\n",
        "\n",
        "# Split the data for training (90%) and testing (10%)\n",
        "X_train, X_test, y_train, y_test = train_test_split(X, y, test_size=0.10, random_state=42)"
      ],
      "metadata": {
        "id": "97ccLm1GzAVh"
      },
      "id": "97ccLm1GzAVh",
      "execution_count": 5,
      "outputs": []
    },
    {
      "cell_type": "markdown",
      "source": [
        "# Linear Regression Model"
      ],
      "metadata": {
        "id": "fbPkPlMgzA4_"
      },
      "id": "fbPkPlMgzA4_"
    },
    {
      "cell_type": "markdown",
      "source": [
        "## Training the Model"
      ],
      "metadata": {
        "id": "QPjCyJFYF-GE"
      },
      "id": "QPjCyJFYF-GE"
    },
    {
      "cell_type": "code",
      "source": [
        "from sklearn.linear_model import LinearRegression\n",
        "\n",
        "# Train a linear regression model on the training data\n",
        "linreg = LinearRegression()\n",
        "linreg.fit(X_train, y_train)"
      ],
      "metadata": {
        "id": "sHOhsYVsIOD-",
        "outputId": "274b3906-ad3a-41ca-aebb-08d7b83b8d17",
        "colab": {
          "base_uri": "https://localhost:8080/"
        }
      },
      "id": "sHOhsYVsIOD-",
      "execution_count": 6,
      "outputs": [
        {
          "output_type": "execute_result",
          "data": {
            "text/plain": [
              "LinearRegression()"
            ]
          },
          "metadata": {},
          "execution_count": 6
        }
      ]
    },
    {
      "cell_type": "markdown",
      "source": [
        "## Predicting the Value of a New Point"
      ],
      "metadata": {
        "id": "EaTOppyZGBB4"
      },
      "id": "EaTOppyZGBB4"
    },
    {
      "cell_type": "code",
      "source": [
        "# Predict the value of the new point\n",
        "X0 = [[500.5, 471.53]]\n",
        "X_pred = pd.DataFrame(X0, columns=X_test.columns)\n",
        "y_pred = linreg.predict(X_pred)\n",
        "\n",
        "print(y_pred)"
      ],
      "metadata": {
        "id": "ipySv_Y5J5PZ",
        "outputId": "4c07cb7f-31fe-4776-bfb9-c4dc910fed17",
        "colab": {
          "base_uri": "https://localhost:8080/"
        }
      },
      "id": "ipySv_Y5J5PZ",
      "execution_count": 7,
      "outputs": [
        {
          "output_type": "stream",
          "name": "stdout",
          "text": [
            "[511061.50500929]\n"
          ]
        }
      ]
    },
    {
      "cell_type": "markdown",
      "source": [
        "Given a new data point $(x_0, x_1) = (500.5, 471.53)$, the model predicts a value of 511,061nm^3 for the size of the slime."
      ],
      "metadata": {
        "id": "h3zf6ukuow4K"
      },
      "id": "h3zf6ukuow4K"
    },
    {
      "cell_type": "code",
      "source": [
        "print('Score: ', linreg.score(X_test, y_test))"
      ],
      "metadata": {
        "colab": {
          "base_uri": "https://localhost:8080/"
        },
        "id": "vM1FjffkFya4",
        "outputId": "6532d898-457d-4857-b437-26b91e724e20"
      },
      "id": "vM1FjffkFya4",
      "execution_count": 8,
      "outputs": [
        {
          "output_type": "stream",
          "name": "stdout",
          "text": [
            "Score:  0.8552472077276095\n"
          ]
        }
      ]
    },
    {
      "cell_type": "markdown",
      "source": [
        "The score for this model is about 85.525%. This score means that, based on the testing data, the model was able to predict about 85.525% of the corresponding values in y_test correctly. As a result, the model as a whole has an accuracy of about 85.525% for computing the correct y-value given a new input $(x_0, x_1)$ from the train set or a completely new point."
      ],
      "metadata": {
        "id": "VjdmGYNtNFfm"
      },
      "id": "VjdmGYNtNFfm"
    },
    {
      "cell_type": "code",
      "source": [
        "# Extract coefficients and intercept\n",
        "print('Coefficients: ', linreg.coef_)\n",
        "print('Intercept: ', linreg.intercept_)"
      ],
      "metadata": {
        "colab": {
          "base_uri": "https://localhost:8080/"
        },
        "id": "ec8Sb95qCl-_",
        "outputId": "da134cb8-4729-4721-fe16-1fb260504d30"
      },
      "id": "ec8Sb95qCl-_",
      "execution_count": 9,
      "outputs": [
        {
          "output_type": "stream",
          "name": "stdout",
          "text": [
            "Coefficients:  [ 866.14641337 1032.69506649]\n",
            "Intercept:  -409391.47958340764\n"
          ]
        }
      ]
    },
    {
      "cell_type": "markdown",
      "source": [
        "This gives us the equation $h(x_0, x_1) = 866.15x_0 + 1032.7x_1 - 409,390$"
      ],
      "metadata": {
        "id": "SxkolmkoCrOz"
      },
      "id": "SxkolmkoCrOz"
    },
    {
      "cell_type": "markdown",
      "source": [
        "# Cross Validation"
      ],
      "metadata": {
        "id": "TqflXAkuzG_o"
      },
      "id": "TqflXAkuzG_o"
    },
    {
      "cell_type": "code",
      "source": [
        "from sklearn.model_selection import cross_val_score\n",
        "\n",
        "# Evaluate the model score using 5-fold cross-validation\n",
        "scores = cross_val_score(linreg, X_test, y_test, cv=5)\n",
        "print(scores)"
      ],
      "metadata": {
        "id": "jZDktor7zPoP",
        "colab": {
          "base_uri": "https://localhost:8080/"
        },
        "outputId": "1914911f-8338-4e36-c514-905d168b1491"
      },
      "id": "jZDktor7zPoP",
      "execution_count": 10,
      "outputs": [
        {
          "output_type": "stream",
          "name": "stdout",
          "text": [
            "[0.86600166 0.81565018 0.84209182 0.85686866 0.85851145]\n"
          ]
        }
      ]
    },
    {
      "cell_type": "markdown",
      "source": [
        "Throughout the five shuffles of data, the highest accuracy the model achieved was roughly 86.600% which is better than the 85.525% achieved in the inital experiment."
      ],
      "metadata": {
        "id": "tK0MHtaYO-vW"
      },
      "id": "tK0MHtaYO-vW"
    },
    {
      "cell_type": "markdown",
      "source": [
        "# Polynomial Regression"
      ],
      "metadata": {
        "id": "YhsFm4_lzTyM"
      },
      "id": "YhsFm4_lzTyM"
    },
    {
      "cell_type": "code",
      "source": [
        "from sklearn.preprocessing import PolynomialFeatures\n",
        "\n",
        "# Modify the dataset to augment new columns to adjust for polynomial regression\n",
        "X_poly = PolynomialFeatures(degree=2)\n",
        "X_poly = X_poly.fit_transform(X)\n",
        "X_poly"
      ],
      "metadata": {
        "id": "fKkUO-eNzVSV",
        "colab": {
          "base_uri": "https://localhost:8080/"
        },
        "outputId": "1664bc92-b72e-4b83-9181-41e6a00a9fc0"
      },
      "id": "fKkUO-eNzVSV",
      "execution_count": 11,
      "outputs": [
        {
          "output_type": "execute_result",
          "data": {
            "text/plain": [
              "array([[1.00000e+00, 4.69000e+02, 6.47000e+02, 2.19961e+05, 3.03443e+05,\n",
              "        4.18609e+05],\n",
              "       [1.00000e+00, 4.03000e+02, 6.94000e+02, 1.62409e+05, 2.79682e+05,\n",
              "        4.81636e+05],\n",
              "       [1.00000e+00, 3.02000e+02, 9.75000e+02, 9.12040e+04, 2.94450e+05,\n",
              "        9.50625e+05],\n",
              "       ...,\n",
              "       [1.00000e+00, 7.91000e+02, 2.13000e+02, 6.25681e+05, 1.68483e+05,\n",
              "        4.53690e+04],\n",
              "       [1.00000e+00, 7.69000e+02, 5.53000e+02, 5.91361e+05, 4.25257e+05,\n",
              "        3.05809e+05],\n",
              "       [1.00000e+00, 9.19000e+02, 4.52000e+02, 8.44561e+05, 4.15388e+05,\n",
              "        2.04304e+05]])"
            ]
          },
          "metadata": {},
          "execution_count": 11
        }
      ]
    },
    {
      "cell_type": "markdown",
      "source": [
        "As we can see from the original values of X, the first input from the data set $(x_0, x_1)$ has values (469,647). Looking at the first element of X_poly implies that the columns are $[1, x_0, x_1, x_0^2, x_0x_1, x_1^2]$."
      ],
      "metadata": {
        "id": "zloRrnktShoE"
      },
      "id": "zloRrnktShoE"
    },
    {
      "cell_type": "code",
      "source": [
        "# Repeat analysis for the polynomial regression model\n",
        "\n",
        "# Split the data set into train and test sets\n",
        "X_poly_train, X_poly_test, y_poly_train, y_poly_test = train_test_split(\n",
        "    X_poly,\n",
        "    y,\n",
        "    test_size=0.10,\n",
        "    random_state=42\n",
        ")\n",
        "\n",
        "# Create a linear regression model using the new train sets\n",
        "polyreg = LinearRegression()\n",
        "polyreg.fit(X_poly_train, y_poly_train)\n",
        "\n",
        "# Display the score, coefficients, and intercept of the new model\n",
        "print('Score: ', polyreg.score(X_poly_test, y_poly_test))\n",
        "print('Coefficients: ', polyreg.coef_)\n",
        "print('Intercept: ', polyreg.intercept_)"
      ],
      "metadata": {
        "id": "uLHUe5w-eEwb",
        "outputId": "e2530719-af00-4bd0-b1af-df4f514db750",
        "colab": {
          "base_uri": "https://localhost:8080/"
        }
      },
      "id": "uLHUe5w-eEwb",
      "execution_count": 12,
      "outputs": [
        {
          "output_type": "stream",
          "name": "stdout",
          "text": [
            "Score:  1.0\n",
            "Coefficients:  [ 0.00000000e+00  1.20000000e+01 -1.27195488e-07  1.26494371e-11\n",
            "  2.00000000e+00  2.85714287e-02]\n",
            "Intercept:  2.0477105863392353e-05\n"
          ]
        }
      ]
    },
    {
      "cell_type": "markdown",
      "source": [
        "This gives us the equation $h(x_0, x_1) = 1 + 12x_0 - 0.00000012720x_1 + 0.000000000012649x_0^2 + 2x_0x_1 + 0.028571x_1^2$"
      ],
      "metadata": {
        "id": "LNY51KBYgKLz"
      },
      "id": "LNY51KBYgKLz"
    },
    {
      "cell_type": "code",
      "source": [
        "# Predict the y value for a new input (x_0, x_1)\n",
        "X1 = [[1, 500.5, 471.53, 500.5**2, 500.5*471.53, 471.53**2]]\n",
        "X_poly_pred = pd.DataFrame(X1)\n",
        "y_poly_pred = polyreg.predict(X_poly_pred)\n",
        "\n",
        "print(y_poly_pred)"
      ],
      "metadata": {
        "id": "-j5gnwYyf17l",
        "outputId": "446c5a5a-8ee1-46bb-9907-315e13b3c14a",
        "colab": {
          "base_uri": "https://localhost:8080/"
        }
      },
      "id": "-j5gnwYyf17l",
      "execution_count": 13,
      "outputs": [
        {
          "output_type": "stream",
          "name": "stdout",
          "text": [
            "[484360.11686993]\n"
          ]
        }
      ]
    },
    {
      "cell_type": "code",
      "source": [
        "# Check if an existing point produces the expected y\n",
        "X1 = [[1, 469, 647, 469**2, 469*647, 647**2]]\n",
        "X_poly_pred = pd.DataFrame(X1)\n",
        "y_poly_pred = polyreg.predict(X_poly_pred)\n",
        "\n",
        "print(y_poly_pred)"
      ],
      "metadata": {
        "id": "DFwNqvi0TZpO",
        "outputId": "c064dbeb-bb3a-4117-f9fe-ecf140297da0",
        "colab": {
          "base_uri": "https://localhost:8080/"
        }
      },
      "id": "DFwNqvi0TZpO",
      "execution_count": 14,
      "outputs": [
        {
          "output_type": "stream",
          "name": "stdout",
          "text": [
            "[624474.25713602]\n"
          ]
        }
      ]
    },
    {
      "cell_type": "markdown",
      "source": [
        "Since the score of this model is 1, the model should be able to accurately predict the value for every point. Using a new point $(x_0, x_1) = (500.5, 471.53)$, we see that the predicted value is now 484,360nm^3 instead of the 511,060nm^3 previously predicted from the degree-one linear regression. Moreover, when using the existing point $(x_0, x_1) = (469, 647)$, the predicted value is 624,470nm^3 which matches the corresponding output from the original data."
      ],
      "metadata": {
        "id": "QlV4EP4C2dwA"
      },
      "id": "QlV4EP4C2dwA"
    }
  ],
  "metadata": {
    "kernelspec": {
      "display_name": "Python 3 (ipykernel)",
      "language": "python",
      "name": "python3"
    },
    "language_info": {
      "codemirror_mode": {
        "name": "ipython",
        "version": 3
      },
      "file_extension": ".py",
      "mimetype": "text/x-python",
      "name": "python",
      "nbconvert_exporter": "python",
      "pygments_lexer": "ipython3",
      "version": "3.9.5"
    },
    "colab": {
      "name": "Equation-of-Slime.ipynb",
      "provenance": []
    }
  },
  "nbformat": 4,
  "nbformat_minor": 5
}