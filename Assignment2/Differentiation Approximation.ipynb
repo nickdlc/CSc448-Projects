{
  "cells": [
    {
      "cell_type": "markdown",
      "source": [
        "[![Open In Colab](https://colab.research.google.com/assets/colab-badge.svg)](https://colab.research.google.com/github/nickdlc/CSc448-Projects/blob/main/Assignment2/Differentiation%20Approximation.ipynb#scrollTo=ycfBhqVwQ43_)"
      ],
      "metadata": {
        "id": "ycfBhqVwQ43_"
      },
      "id": "ycfBhqVwQ43_"
    },
    {
      "cell_type": "code",
      "execution_count": null,
      "id": "52dbae63",
      "metadata": {
        "id": "52dbae63",
        "outputId": "fd546896-3fd6-4417-99ab-c83a6e0b58d6"
      },
      "outputs": [
        {
          "name": "stdout",
          "output_type": "stream",
          "text": [
            "0.1160482221986725\n",
            "Epsilon:  2.220446049250313e-16\n",
            "Machine Epsilon:  1.1102230246251565e-16\n"
          ]
        }
      ],
      "source": [
        "import math\n",
        "import numpy\n",
        "import sys\n",
        "\n",
        "# Exact Value of f'(1/5) for f(x)=(sinx)^3\n",
        "# Note: f'(x) = 3(sinx)^2(cosx)\n",
        "\n",
        "EXACT_VAL = 3*(numpy.sin(1/5)**2)*numpy.cos(1/5)\n",
        "print(EXACT_VAL)\n",
        "eps = sys.float_info.epsilon\n",
        "mach_eps = eps/2\n",
        "print(\"Epsilon: \", eps)\n",
        "print(\"Machine Epsilon: \", mach_eps)"
      ]
    },
    {
      "cell_type": "code",
      "execution_count": null,
      "id": "4fcaca03",
      "metadata": {
        "id": "4fcaca03",
        "outputId": "120fa58b-e866-44b7-9a42-d9ab62edf7d4"
      },
      "outputs": [
        {
          "name": "stdout",
          "output_type": "stream",
          "text": [
            "Table 1: Forward-Difference Approximations on f'(1/5) for f(x)=(sinx)^3\n",
            "\n",
            "  #    h         Exact Value           Fwd-Diff Appx         Absolute Error          Relative Error\n",
            "  0  1e+00  1.160482221986725e-01  8.018180455515956e-01  6.857698233529231e-01  5.909352253401154e+00\n",
            "  1  1e-01  1.160482221986725e-01  1.796704784159677e-01  6.362225621729517e-02  5.482398179988919e-01\n",
            "  2  1e-02  1.160482221986725e-01  1.217355651470228e-01  5.687342948350327e-03  4.900844528762963e-02\n",
            "  3  1e-03  1.160482221986725e-01  1.166097495058187e-01  5.615273071461757e-04  4.838741141461443e-03\n",
            "  4  1e-04  1.160482221986725e-01  1.161043024364844e-01  5.608023781189519e-05  4.832494350140653e-04\n",
            "  5  1e-05  1.160482221986725e-01  1.160538294972882e-01  5.607298615692424e-06  4.831869467239945e-05\n",
            "  6  1e-06  1.160482221986725e-01  1.160487829235390e-01  5.607248665384645e-07  4.831826424523018e-06\n",
            "  7  1e-07  1.160482221986725e-01  1.160482782959493e-01  5.609727682376331e-08  4.833962620101647e-07\n",
            "  8  1e-08  1.160482221986725e-01  1.160482277981489e-01  5.599476438078455e-09  4.825129012741143e-08\n",
            "  9  1e-09  1.160482221986725e-01  1.160482231143955e-01  9.157230390632876e-10  7.890883821516765e-09\n",
            " 10  1e-10  1.160482221986725e-01  1.160482474005242e-01  2.520185171661637e-08  2.171670641664053e-07\n",
            " 11  1e-11  1.160482221986725e-01  1.160484902618109e-01  2.680631383672472e-07  2.309928866539014e-06\n",
            " 12  1e-12  1.160482221986725e-01  1.160495310958964e-01  1.308897223939454e-06  1.127890801893238e-05\n",
            " 13  1e-13  1.160482221986725e-01  1.160703477776082e-01  2.212557893566114e-05  1.906584910691914e-04\n",
            " 14  1e-14  1.160482221986725e-01  1.158795281952507e-01  1.686940034217876e-04  1.453654353558183e-03\n",
            " 15  1e-15  1.160482221986725e-01  1.179611963664229e-01  1.912974167750367e-03  1.648430395146760e-02\n",
            " 16  1e-16  1.160482221986725e-01  1.214306433183765e-01  5.382421119703995e-03  4.638090112651089e-02\n",
            " 17  1e-17  1.160482221986725e-01  0.000000000000000e+00  1.160482221986725e-01  1.000000000000000e+00\n",
            " 18  1e-18  1.160482221986725e-01  0.000000000000000e+00  1.160482221986725e-01  1.000000000000000e+00\n",
            " 19  1e-19  1.160482221986725e-01  0.000000000000000e+00  1.160482221986725e-01  1.000000000000000e+00\n",
            " 20  1e-20  1.160482221986725e-01  0.000000000000000e+00  1.160482221986725e-01  1.000000000000000e+00\n",
            " 21  1e-21  1.160482221986725e-01  0.000000000000000e+00  1.160482221986725e-01  1.000000000000000e+00\n",
            " 22  1e-22  1.160482221986725e-01  0.000000000000000e+00  1.160482221986725e-01  1.000000000000000e+00\n",
            " 23  1e-23  1.160482221986725e-01  0.000000000000000e+00  1.160482221986725e-01  1.000000000000000e+00\n",
            " 24  1e-24  1.160482221986725e-01  0.000000000000000e+00  1.160482221986725e-01  1.000000000000000e+00\n",
            " 25  1e-25  1.160482221986725e-01  0.000000000000000e+00  1.160482221986725e-01  1.000000000000000e+00\n"
          ]
        }
      ],
      "source": [
        "# Computing the forward-difference approximation of f'(1/5) for f(x)=(sinx)^3\n",
        "\n",
        "fwd_diff_appx = []\n",
        "fwd_diff_abs_errors = []\n",
        "fwd_diff_rel_errors = []\n",
        "\n",
        "print(\"Table 1: Forward-Difference Approximations on f'(1/5) for f(x)=(sinx)^3\\n\")\n",
        "print(\"  #    h         Exact Value           Fwd-Diff Appx         Absolute Error          Relative Error\")\n",
        "for i in range (0,26):\n",
        "    h = 10**-i\n",
        "    fwd_diff_appx.append(((numpy.sin((1/5)+h)**3)-(numpy.sin(1/5)**3))/h)\n",
        "    fwd_diff_abs_errors.append(abs(fwd_diff_appx[i]-EXACT_VAL))\n",
        "    fwd_diff_rel_errors.append(abs(fwd_diff_abs_errors[i]/EXACT_VAL))\n",
        "    print(\"% 3d\" % i,\n",
        "         \"% 1.0e\" % h,\n",
        "         \"% 12.15e\" % EXACT_VAL,\n",
        "         \"% 12.15e\" % fwd_diff_appx[i],\n",
        "         \"% 12.15e\" % fwd_diff_abs_errors[i],\n",
        "         \"% 12.15e\" % fwd_diff_rel_errors[i])"
      ]
    },
    {
      "cell_type": "code",
      "execution_count": null,
      "id": "7f6b2e85",
      "metadata": {
        "id": "7f6b2e85",
        "outputId": "2def9142-be66-438c-d0fb-1c4faefbdc71"
      },
      "outputs": [
        {
          "name": "stdout",
          "output_type": "stream",
          "text": [
            "Table 2: Three-Point Midpoint Formula Approximations on f'(1/5) for f(x)=(sinx)^3\n",
            "\n",
            "  #    h         Exact Value        3-pt Midpoint Appx       Absolute Error          Relative Error\n",
            "  0  1e+00  1.160482221986725e-01  5.894053491679936e-01  4.733571269693211e-01  4.078969225042862e+00\n",
            "  1  1e-01  1.160482221986725e-01  1.240670838467381e-01  8.018861648065603e-03  6.909939244340559e-02\n",
            "  2  1e-02  1.160482221986725e-01  1.161288175062089e-01  8.059530753642963e-05  6.944984249603746e-04\n",
            "  3  1e-03  1.160482221986725e-01  1.160490281925056e-01  8.059938331334005e-07  6.945335463679515e-06\n",
            "  4  1e-04  1.160482221986725e-01  1.160482302585940e-01  8.059921480230159e-09  6.945320942902267e-08\n",
            "  5  1e-05  1.160482221986725e-01  1.160482222793864e-01  8.071389390185146e-11  6.955202964132506e-10\n",
            "  6  1e-06  1.160482221986725e-01  1.160482222010636e-01  2.391142839286431e-12  2.060473477303975e-11\n",
            "  7  1e-07  1.160482221986725e-01  1.160482222036657e-01  4.993228053251642e-12  4.302718265432213e-11\n",
            "  8  1e-08  1.160482221986725e-01  1.160482221602976e-01  3.837485884616854e-11  3.306802820337175e-10\n",
            "  9  1e-09  1.160482221986725e-01  1.160482213796721e-01  8.190004369135195e-10  7.057414766004819e-09\n",
            " 10  1e-10  1.160482221986725e-01  1.160482387269068e-01  1.652823433673234e-08  1.424255712287974e-07\n",
            " 11  1e-11  1.160482221986725e-01  1.160483167894633e-01  9.459079076956645e-08  8.150990077868551e-07\n",
            " 12  1e-12  1.160482221986725e-01  1.160477963724205e-01  4.258262520373535e-07  3.669390568589206e-06\n",
            " 13  1e-13  1.160482221986725e-01  1.160616741602283e-01  1.345196155577710e-05  1.159169981315835e-04\n",
            " 14  1e-14  1.160482221986725e-01  1.157927920214519e-01  2.554301772206280e-04  2.201069282934262e-03\n",
            " 15  1e-15  1.160482221986725e-01  1.170938346284345e-01  1.045612429761963e-03  9.010154657706807e-03\n",
            " 16  1e-16  1.160482221986725e-01  1.301042606982605e-01  1.405603849958803e-02  1.211223940641188e-01\n",
            " 17  1e-17  1.160482221986725e-01  0.000000000000000e+00  1.160482221986725e-01  1.000000000000000e+00\n",
            " 18  1e-18  1.160482221986725e-01  0.000000000000000e+00  1.160482221986725e-01  1.000000000000000e+00\n",
            " 19  1e-19  1.160482221986725e-01  0.000000000000000e+00  1.160482221986725e-01  1.000000000000000e+00\n",
            " 20  1e-20  1.160482221986725e-01  0.000000000000000e+00  1.160482221986725e-01  1.000000000000000e+00\n",
            " 21  1e-21  1.160482221986725e-01  0.000000000000000e+00  1.160482221986725e-01  1.000000000000000e+00\n",
            " 22  1e-22  1.160482221986725e-01  0.000000000000000e+00  1.160482221986725e-01  1.000000000000000e+00\n",
            " 23  1e-23  1.160482221986725e-01  0.000000000000000e+00  1.160482221986725e-01  1.000000000000000e+00\n",
            " 24  1e-24  1.160482221986725e-01  0.000000000000000e+00  1.160482221986725e-01  1.000000000000000e+00\n",
            " 25  1e-25  1.160482221986725e-01  0.000000000000000e+00  1.160482221986725e-01  1.000000000000000e+00\n"
          ]
        }
      ],
      "source": [
        "# Computing the three-point midpoint formula approximation of f'(1/5) for f(x)=(sinx)^3\n",
        "three_pt_mp_appx = []\n",
        "three_pt_mp_h_vals = []\n",
        "three_pt_mp_abs_errors = []\n",
        "three_pt_mp_rel_errors = []\n",
        "\n",
        "print(\"Table 2: Three-Point Midpoint Formula Approximations on f'(1/5) for f(x)=(sinx)^3\\n\")\n",
        "print(\"  #    h         Exact Value        3-pt Midpoint Appx       Absolute Error          Relative Error\")\n",
        "for i in range(0,26):\n",
        "    h = 10**-i\n",
        "    three_pt_mp_appx.append(((numpy.sin(1/5+h)**3)-(numpy.sin(1/5-h)**3))/(2*h))\n",
        "    three_pt_mp_abs_errors.append(abs(three_pt_mp_appx[i]-EXACT_VAL))\n",
        "    three_pt_mp_rel_errors.append(abs(three_pt_mp_abs_errors[i]/EXACT_VAL))\n",
        "    print(\"% 3d\" % i,\n",
        "         \"% 1.0e\" % h,\n",
        "         \"% 12.15e\" % EXACT_VAL,\n",
        "         \"% 12.15e\" % three_pt_mp_appx[i],\n",
        "         \"% 12.15e\" % three_pt_mp_abs_errors[i],\n",
        "         \"% 12.15e\" % three_pt_mp_rel_errors[i])"
      ]
    },
    {
      "cell_type": "code",
      "execution_count": null,
      "id": "f2492a81",
      "metadata": {
        "id": "f2492a81",
        "outputId": "bce189c2-c1c1-4ea9-87fe-14872d6b7f53"
      },
      "outputs": [
        {
          "name": "stdout",
          "output_type": "stream",
          "text": [
            "Table 3: Five-Point Midpoint Formula Approximations on f'(1/5) for f(x)=(sinx)^3\n",
            "\n",
            "  #    h         Exact Value        5-pt Midpoint Appx       Absolute Error          Relative Error\n",
            "  0  1e+00  1.160482221986725e-01  6.648684816378255e-01  5.488202594391530e-01  4.729243146005136e+00\n",
            "  1  1e-01  1.160482221986725e-01  1.162111240959164e-01  1.629018972438973e-04  1.403743152264858e-03\n",
            "  2  1e-02  1.160482221986725e-01  1.160482386649145e-01  1.646624203655023e-08  1.418913769170915e-07\n",
            "  3  1e-03  1.160482221986725e-01  1.160482222003196e-01  1.647085245970459e-12  1.419311054287999e-11\n",
            "  4  1e-04  1.160482221986725e-01  1.160482221986466e-01  2.590982983718959e-14  2.232677877032224e-13\n",
            "  5  1e-05  1.160482221986725e-01  1.160482221988374e-01  1.648958747324514e-13  1.420925470535452e-12\n",
            "  6  1e-06  1.160482221986725e-01  1.160482222009191e-01  2.246577923692428e-12  1.935900336195005e-11\n",
            "  7  1e-07  1.160482221986725e-01  1.160482222036657e-01  4.993228053251642e-12  4.302718265432213e-11\n",
            "  8  1e-08  1.160482221986725e-01  1.160482221747537e-01  2.391883913155368e-11  2.061112068619634e-10\n",
            "  9  1e-09  1.160482221986725e-01  1.160482209459912e-01  1.252681305907721e-09  1.079448941288522e-08\n",
            " 10  1e-10  1.160482221986725e-01  1.160482430637155e-01  2.086504302667436e-08  1.797963176976014e-07\n",
            " 11  1e-11  1.160482221986725e-01  1.160483167894633e-01  9.459079075568866e-08  8.150990076672687e-07\n",
            " 12  1e-12  1.160482221986725e-01  1.160475072518411e-01  7.149468313760732e-07  6.160773666589195e-06\n",
            " 13  1e-13  1.160482221986725e-01  1.160660109689182e-01  1.778877024570524e-05  1.532877446002678e-04\n",
            " 14  1e-14  1.160482221986725e-01  1.156915998186866e-01  3.566223799859325e-04  3.073053367206275e-03\n",
            " 15  1e-15  1.160482221986725e-01  1.173829552077639e-01  1.334733009091441e-03  1.150153775562715e-02\n",
            " 16  1e-16  1.160482221986725e-01  1.402234809747919e-01  2.417525877611940e-02  2.083208024913280e-01\n",
            " 17  1e-17  1.160482221986725e-01 -5.782411586589357e-02  1.738723380645661e-01  1.498276619584053e+00\n",
            " 18  1e-18  1.160482221986725e-01 -2.891205793294678e-01  4.051688015281403e-01  3.491383097920264e+00\n",
            " 19  1e-19  1.160482221986725e-01 -2.891205793294679e+00  3.007254015493351e+00  2.591383097920264e+01\n",
            " 20  1e-20  1.160482221986725e-01 -2.891205793294679e+01  2.902810615514546e+01  2.501383097920264e+02\n",
            " 21  1e-21  1.160482221986725e-01 -2.891205793294679e+02  2.892366275516666e+02  2.492383097920264e+03\n",
            " 22  1e-22  1.160482221986725e-01 -2.891205793294679e+03  2.891321841516877e+03  2.491483097920264e+04\n",
            " 23  1e-23  1.160482221986725e-01 -2.891205793294678e+04  2.891217398116898e+04  2.491393097920264e+05\n",
            " 24  1e-24  1.160482221986725e-01 -2.891205793294679e+05  2.891206953776901e+05  2.491384097920264e+06\n",
            " 25  1e-25  1.160482221986725e-01 -2.891205793294678e+06  2.891205909342901e+06  2.491383197920264e+07\n"
          ]
        }
      ],
      "source": [
        "# Computing the five-point midpoint formula approximation of f'(1/5) for f(x)=(sinx)^3\n",
        "five_pt_mp_appx = []\n",
        "five_pt_mp_abs_errors = []\n",
        "five_pt_mp_rel_errors = []\n",
        "\n",
        "print(\"Table 3: Five-Point Midpoint Formula Approximations on f'(1/5) for f(x)=(sinx)^3\\n\")\n",
        "print(\"  #    h         Exact Value        5-pt Midpoint Appx       Absolute Error          Relative Error\")\n",
        "for i in range(0,26):\n",
        "    h = 10**-i\n",
        "    five_pt_mp_appx.append(((numpy.sin(1/5-(2*h))**3) - 8*(numpy.sin(1/5-h)**3)\\\n",
        "                            + 8*(numpy.sin(1/5+h)**3) - (numpy.sin(1/5+(2*h))**3))/(12*h))\n",
        "    five_pt_mp_abs_errors.append(abs(five_pt_mp_appx[i]-EXACT_VAL))\n",
        "    five_pt_mp_rel_errors.append(abs(five_pt_mp_abs_errors[i]/EXACT_VAL))\n",
        "    print(\"% 3d\" % i,\n",
        "         \"% 1.0e\" % h,\n",
        "         \"% 12.15e\" % EXACT_VAL,\n",
        "         \"% 12.15e\" % five_pt_mp_appx[i],\n",
        "         \"% 12.15e\" % five_pt_mp_abs_errors[i],\n",
        "         \"% 12.15e\" % five_pt_mp_rel_errors[i])"
      ]
    },
    {
      "cell_type": "markdown",
      "id": "54d38510",
      "metadata": {
        "id": "54d38510"
      },
      "source": [
        "**Program Analysis**\n",
        "\n",
        "This program approximates the derivative of f(x) = sin^3(x) evaluated at x = 1/5 using the forward difference, three-point midpoint, and five-point midpoint formulas. Moreover, it compares the approximate values with the exact value (EXACT_VAL) using np.sin() and np.cos(). Since this uses floating point arithmetic, we know that there is an upper bound for the relative approximation error given by machine epsilon (mach_eps).\n",
        "\n",
        "The forward difference formula states that the derivative of a function can be approximated using the value x_0 in (f(x_0 + h) - f(x_0))/h with an error bound of M|h|/2 where M is the bound on |f''(x)| for x in [x_0, x_0 + h]. This is derived from the limit definition of a derivative. As h gets closer to 0, we can see that the program eventually computes 0 for the foward difference approximation starting at h = 1e-17. This is due to the round-off error from floating point arithmetic as h decreases. This method is most accurate when h = 1e-9.\n",
        "\n",
        "The three-point midpoint formula stipulates that f(x) is evaluated at 2 points: f(x_0 + h) and f(x_0 - h). The approximation of the f'(x) using the three-point midpoint formula is (f(x_0 + h) - f(x_0 - h))/2h - h^2 * f'''(xi)/6, where xi is a value between (x_0 + h) and (x_0 - h). The term xi is a correction term for the truncation errors which we are unable to calculate. Much like the forward difference method, the three-point midpoint method starts to compute 0 for the derivative f'(1/5) with sufficiently small h (h = 1e-17). This method is most accurate when h = 1e-6.\n",
        "\n",
        "The five-point midpoint formula stipulates that f(x) is evaluated at 4 points: (x_0 - 2h), (x_0 - h), (x_0 + h),\n",
        "and (x_0 + 2h). This formula is given by [f(x_0 - 2h) - 8f(x_0 - h) + 8f(x_0 + h) - f(x_0 + 2h)]/12h + (h^5)/5 * f'''''(xi) with xi in the range (x_0 - 2h, x_0 + 2h). Unlike the previous two methods, the five-point midpoint formula does not converge to 0 as h approaches 0. This method is most accurate when h = 1e-4.\n",
        "\n",
        "Despite the five-point midpoint method producing the highest relative error among the three methods with sufficiently small h, it also yields the most accurate approximation of f'(1/5) when h = 1e-4. This program does not compute the optimal h values for each method, but does give us the intution of what range the optimal value lies in."
      ]
    },
    {
      "cell_type": "markdown",
      "id": "df52d147",
      "metadata": {
        "id": "df52d147"
      },
      "source": [
        "![image.png](attachment:image.png)"
      ]
    }
  ],
  "metadata": {
    "kernelspec": {
      "display_name": "Python 3 (ipykernel)",
      "language": "python",
      "name": "python3"
    },
    "language_info": {
      "codemirror_mode": {
        "name": "ipython",
        "version": 3
      },
      "file_extension": ".py",
      "mimetype": "text/x-python",
      "name": "python",
      "nbconvert_exporter": "python",
      "pygments_lexer": "ipython3",
      "version": "3.9.5"
    },
    "colab": {
      "name": "Differentiation Approximation.ipynb",
      "provenance": []
    }
  },
  "nbformat": 4,
  "nbformat_minor": 5
}